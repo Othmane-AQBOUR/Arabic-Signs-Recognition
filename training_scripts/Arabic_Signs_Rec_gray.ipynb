{
  "nbformat": 4,
  "nbformat_minor": 0,
  "metadata": {
    "colab": {
      "name": "Arabic_Signs_Rec_gray.ipynb",
      "provenance": [],
      "collapsed_sections": []
    },
    "kernelspec": {
      "name": "python3",
      "display_name": "Python 3"
    },
    "language_info": {
      "name": "python"
    }
  },
  "cells": [
    {
      "cell_type": "code",
      "execution_count": null,
      "metadata": {
        "id": "1-qfoAu2cyEz"
      },
      "outputs": [],
      "source": [
        "%tensorflow_version 2.x"
      ]
    },
    {
      "cell_type": "code",
      "source": [
        "import tensorflow as tf\n",
        "from tensorflow.keras import layers, models , Sequential\n",
        "import matplotlib.pyplot as plt\n",
        "from sklearn.tree import DecisionTreeClassifier\n",
        "from sklearn.model_selection import train_test_split\n",
        "from sklearn.utils import shuffle\n",
        "import cv2\n",
        "import numpy as np\n",
        "from PIL import Image\n",
        "import random\n",
        "import os\n",
        "import pandas as pd\n",
        "import seaborn as sns"
      ],
      "metadata": {
        "id": "V7htRaV4cziI"
      },
      "execution_count": null,
      "outputs": []
    },
    {
      "cell_type": "code",
      "source": [
        "from google.colab import drive\n",
        "drive.mount('/content/gdrive')"
      ],
      "metadata": {
        "id": "qmK0MDYVc1lm"
      },
      "execution_count": null,
      "outputs": []
    },
    {
      "cell_type": "code",
      "source": [
        "# all the arabic signs\n",
        "CATEGORIES = ['ain', 'al', 'aleff', 'bb', 'dal', 'dha', 'dhad', 'fa', \n",
        "             'gaaf', 'ghain', 'ha', 'haa', 'jeem', 'kaaf', 'khaa', 'la', \n",
        "             'laam', 'meem', 'nun', 'ra', 'saad', 'seen', 'sheen', 'ta', \n",
        "             'taa', 'thaa', 'thal', 'toot', 'waw', 'ya', 'yaa', 'zay'] "
      ],
      "metadata": {
        "id": "YRar6hVXc39A"
      },
      "execution_count": null,
      "outputs": []
    },
    {
      "cell_type": "code",
      "source": [
        "#training parameters\n",
        "IMG_SIZE = 64\n",
        "targetCount = len(CATEGORIES) #the arabic alphabet count : 32\n",
        "BATCH_SIZE = 5\n",
        "NB_EPOCHS = 1\n",
        "path = '/content/gdrive/MyDrive/ArASL'"
      ],
      "metadata": {
        "id": "_IyKensgdSqi"
      },
      "execution_count": null,
      "outputs": []
    },
    {
      "cell_type": "code",
      "source": [
        "#loading data\n",
        "training=[]"
      ],
      "metadata": {
        "id": "58GYkTErdVes"
      },
      "execution_count": null,
      "outputs": []
    },
    {
      "cell_type": "code",
      "source": [
        "def createTrainingData():\n",
        "    ii = 0\n",
        "    for Class in os.listdir(path):\n",
        "        Class_Path = os.path.join(path ,  Class)\n",
        "        for img in os.listdir(Class_Path):\n",
        "            #image\n",
        "            img_array = cv2.cvtColor(cv2.imread(os.path.join(Class_Path , img)), cv2.COLOR_BGR2GRAY)\n",
        "            ii = ii + 1\n",
        "            new_array = cv2.resize(img_array, (IMG_SIZE, IMG_SIZE))\n",
        "            #print(Class,img , img_array.shape)\n",
        "            #label\n",
        "            training.append([new_array , CATEGORIES.index(Class)])\n",
        "    print('Loading train_DATA is finshed... size : ', ii)\n",
        "    return training"
      ],
      "metadata": {
        "id": "_q-_tbfMdbCJ"
      },
      "execution_count": null,
      "outputs": []
    },
    {
      "cell_type": "code",
      "source": [
        "createTrainingData()"
      ],
      "metadata": {
        "id": "qsFxaJvn9-v2"
      },
      "execution_count": null,
      "outputs": []
    },
    {
      "cell_type": "code",
      "source": [
        "#Randomize data\n",
        "random.shuffle(training)\n",
        "print('Data is shuffeled...')"
      ],
      "metadata": {
        "id": "uU6hxQMTeU-q"
      },
      "execution_count": null,
      "outputs": []
    },
    {
      "cell_type": "code",
      "source": [
        "#Seprate features and labels\n",
        "features = []\n",
        "labels = []\n",
        "\n",
        "for f , l in training:\n",
        "    features.append(f)\n",
        "    labels.append(l)"
      ],
      "metadata": {
        "id": "lf0kT7Z0jpar"
      },
      "execution_count": null,
      "outputs": []
    },
    {
      "cell_type": "markdown",
      "source": [
        "##Normalize the data to be float type between 0 and 1 : "
      ],
      "metadata": {
        "id": "MOhPIXhZkCuu"
      }
    },
    {
      "cell_type": "code",
      "source": [
        "input = np.array(features).reshape(-1 , IMG_SIZE, IMG_SIZE , 1)\n",
        "output = np.array(labels)\n",
        "\n",
        "#convert to flaot\n",
        "input = input.astype('float32')\n",
        "#converting value from [0,255] to [0,1]\n",
        "input /= 255.0"
      ],
      "metadata": {
        "id": "XmiuK_q5juU7"
      },
      "execution_count": null,
      "outputs": []
    },
    {
      "cell_type": "code",
      "source": [
        "input.shape"
      ],
      "metadata": {
        "id": "p1h4rm7FoCc5"
      },
      "execution_count": null,
      "outputs": []
    },
    {
      "cell_type": "code",
      "source": [
        "plt.figure(figsize=(10,10))\n",
        "for i in range(25):\n",
        "    plt.subplot(5,5,i+1)\n",
        "    plt.xticks([])\n",
        "    plt.yticks([])\n",
        "    plt.grid(False)\n",
        "    im = cv2.cvtColor(input[i], cv2.COLOR_BGR2RGB)\n",
        "    plt.imshow(im)\n",
        "    plt.xlabel(output[i])\n",
        "    \n",
        "plt.show()"
      ],
      "metadata": {
        "id": "rCK5tteAj2PK"
      },
      "execution_count": null,
      "outputs": []
    },
    {
      "cell_type": "markdown",
      "source": [
        "##convert output shape to categorical"
      ],
      "metadata": {
        "id": "W6v11v5flNit"
      }
    },
    {
      "cell_type": "code",
      "source": [
        "output = tf.keras.utils.to_categorical(output,targetCount)"
      ],
      "metadata": {
        "id": "5RJLtBn4j46F"
      },
      "execution_count": null,
      "outputs": []
    },
    {
      "cell_type": "code",
      "source": [
        "X_train , X_test , Y_train , Y_test = train_test_split(input , output , test_size = 0.2, random_state = 4 )"
      ],
      "metadata": {
        "id": "7pxP21SZkvpk"
      },
      "execution_count": null,
      "outputs": []
    },
    {
      "cell_type": "markdown",
      "source": [
        "##model creation "
      ],
      "metadata": {
        "id": "6RTCc0x9lbue"
      }
    },
    {
      "cell_type": "code",
      "source": [
        "def create_model():\n",
        "  model = Sequential(name='ARABIC_SIGNS')\n",
        "  model.add(layers.Conv2D(32,(3,3),activation='relu',input_shape=(IMG_SIZE, IMG_SIZE , 1) ) )\n",
        "  model.add(layers.MaxPooling2D(pool_size = (2, 2)))\n",
        "  model.add(layers.Conv2D(64, (3, 3), activation='relu' ,input_shape=(IMG_SIZE, IMG_SIZE , 1) ) )\n",
        "  model.add(layers.MaxPooling2D(pool_size = (2, 2)))\n",
        "  #classification layers \n",
        "  model.add(layers.Flatten())\n",
        "  model.add(layers.Dense(512, activation='relu'))\n",
        "  model.add(layers.Dropout(0.2))\n",
        "  model.add(layers.Dense(512, activation='relu'))\n",
        "  model.add(layers.Dropout(0.2))\n",
        "  model.add(layers.Dense(targetCount, activation='softmax'))\n",
        "  print(model.summary())\n",
        "  return model"
      ],
      "metadata": {
        "id": "1EIXk5EvlaeT"
      },
      "execution_count": null,
      "outputs": []
    },
    {
      "cell_type": "code",
      "source": [
        "my_model = create_model()"
      ],
      "metadata": {
        "id": "5VsgXjCQlW4N"
      },
      "execution_count": null,
      "outputs": []
    },
    {
      "cell_type": "code",
      "source": [
        "my_model.compile(optimizer='adam',\n",
        "              loss='categorical_crossentropy',\n",
        "              metrics=['accuracy'])"
      ],
      "metadata": {
        "id": "sq5XTTMfnRPA"
      },
      "execution_count": null,
      "outputs": []
    },
    {
      "cell_type": "code",
      "source": [
        "print(X_train.shape , Y_train.shape)\n",
        "print(X_test.shape , Y_test.shape)"
      ],
      "metadata": {
        "id": "z7_g4FOboO5W"
      },
      "execution_count": null,
      "outputs": []
    },
    {
      "cell_type": "code",
      "source": [
        "history = my_model.fit(X_train , Y_train, batch_size = BATCH_SIZE, epochs = NB_EPOCHS)"
      ],
      "metadata": {
        "id": "d5IQeHSjoQ2A"
      },
      "execution_count": null,
      "outputs": []
    },
    {
      "cell_type": "code",
      "source": [
        "score = my_model.evaluate( X_test , Y_test, verbose = 1 )\n",
        "print(\"Test Score: \", score[0])\n",
        "print(\"Test accuracy: \", score[1])"
      ],
      "metadata": {
        "id": "ibncaQjpoTkK"
      },
      "execution_count": null,
      "outputs": []
    },
    {
      "cell_type": "markdown",
      "source": [
        "##Save the model"
      ],
      "metadata": {
        "id": "wjqHyDpOzOXd"
      }
    },
    {
      "cell_type": "code",
      "source": [
        "!dir"
      ],
      "metadata": {
        "id": "UFkRoY8Ayh8u"
      },
      "execution_count": null,
      "outputs": []
    },
    {
      "cell_type": "code",
      "source": [
        "my_model.save('/content/gdrive/MyDrive/saved_model/ARS_REC_model_gray_2.h5')"
      ],
      "metadata": {
        "id": "u5wHTYIPywcy"
      },
      "execution_count": null,
      "outputs": []
    },
    {
      "cell_type": "code",
      "source": [
        "new_model = tf.keras.models.load_model('/content/gdrive/MyDrive/saved_model/ARS_REC_model_gray_2.h5')\n",
        "# Check its architecture\n",
        "new_model.summary()"
      ],
      "metadata": {
        "id": "mhjYHiXxzhMR"
      },
      "execution_count": null,
      "outputs": []
    },
    {
      "cell_type": "markdown",
      "source": [
        "#Verrifing the model"
      ],
      "metadata": {
        "id": "gKXp1tEB1Cj7"
      }
    },
    {
      "cell_type": "code",
      "source": [
        "predicted = new_model.predict(X_test)"
      ],
      "metadata": {
        "id": "FznQyqCDzqBq"
      },
      "execution_count": null,
      "outputs": []
    },
    {
      "cell_type": "code",
      "source": [
        "args = []\n",
        "for i in range(10171):\n",
        "  args.append(np.argmax(predicted[i]))\n",
        "len(args)"
      ],
      "metadata": {
        "id": "hAeU3GyE1KW-"
      },
      "execution_count": null,
      "outputs": []
    },
    {
      "cell_type": "code",
      "source": [
        "Labls = np.array(args)"
      ],
      "metadata": {
        "id": "waGJPx-q1TS2"
      },
      "execution_count": null,
      "outputs": []
    },
    {
      "cell_type": "code",
      "source": [
        "y_args = []\n",
        "for i in range(10171):\n",
        "  y_args.append(np.argmax(Y_test[i]))\n",
        "len(y_args)"
      ],
      "metadata": {
        "id": "e3pCT0pX1V4S"
      },
      "execution_count": null,
      "outputs": []
    },
    {
      "cell_type": "code",
      "source": [
        "Y_la = np.array(y_args)"
      ],
      "metadata": {
        "id": "RcbUqASV1YRm"
      },
      "execution_count": null,
      "outputs": []
    },
    {
      "cell_type": "markdown",
      "source": [
        "##generating a confusion matrix"
      ],
      "metadata": {
        "id": "K14Fz0Ik1dDx"
      }
    },
    {
      "cell_type": "code",
      "source": [
        "CM = tf.math.confusion_matrix(Y_la , Labls ).numpy()"
      ],
      "metadata": {
        "id": "4Oy_TUsc1a6U"
      },
      "execution_count": null,
      "outputs": []
    },
    {
      "cell_type": "code",
      "source": [
        "con_mat_norm = np.around(CM.astype('float') / CM.sum(axis=1)[:, np.newaxis], decimals=2)\n",
        "con_mat_df = pd.DataFrame(con_mat_norm,\n",
        "                     index = CATEGORIES, \n",
        "                     columns = CATEGORIES)"
      ],
      "metadata": {
        "id": "vaJH23d91i0q"
      },
      "execution_count": null,
      "outputs": []
    },
    {
      "cell_type": "code",
      "source": [
        "figure = plt.figure(figsize=(20, 20))\n",
        "sns.heatmap(con_mat_df, annot=True,cmap=plt.cm.Blues)\n",
        "plt.tight_layout()\n",
        "plt.ylabel('True label')\n",
        "plt.xlabel('Predicted label')\n",
        "plt.show()"
      ],
      "metadata": {
        "id": "w7aYSntg1pEs"
      },
      "execution_count": null,
      "outputs": []
    },
    {
      "cell_type": "code",
      "source": [
        ""
      ],
      "metadata": {
        "id": "d0nLj_3g13uR"
      },
      "execution_count": null,
      "outputs": []
    }
  ]
}